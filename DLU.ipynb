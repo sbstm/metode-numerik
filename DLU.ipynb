{
 "cells": [
  {
   "cell_type": "code",
   "execution_count": 6,
   "metadata": {},
   "outputs": [],
   "source": [
    "import numpy \n",
    "from numpy import *"
   ]
  },
  {
   "cell_type": "code",
   "execution_count": 7,
   "metadata": {},
   "outputs": [],
   "source": [
    "def jalanLU(A, b):\n",
    "    n = len(A)\n",
    "\n",
    "    # ========== matriks L dari sini ===================#\n",
    "    L = zeros((n, n))\n",
    "    for i in range(0, n):\n",
    "        L[i][i] = 1\n",
    "\n",
    "    # ~~~~~~proses triangularisasi~~~~~~#\n",
    "    for k in range(0, n-1):  # -----proses pivot dari sini-------#\n",
    "        if A[k][k] == 0:\n",
    "            for s in range(0, n):\n",
    "                v = A[k][s]\n",
    "                u = A[k+1][s]\n",
    "                A[k][s] = u\n",
    "                A[k+1][s] = v\n",
    "    # -----proses pivot sampai sini-----#\n",
    "        for j in range(k+1, n):\n",
    "            m = A[j][k]/A[k][k]\n",
    "            L[j][k] = m  # nilai m disimpan di matriks L\n",
    "            for i in range(0, n):\n",
    "                A[j][i] = A[j][i]-m*A[k][i]\n",
    "    print()\n",
    "    print('Matriks L')\n",
    "    print(L)\n",
    "    # ========== matriks L sampai sini =================#\n",
    "\n",
    "    # ========== matriks U dari sini ===================#\n",
    "    print()\n",
    "    print('Matriks U')\n",
    "    print(A)\n",
    "    # ========== matriks U sampai sini =================#\n",
    "\n",
    "    # ------proses substitusi maju------#\n",
    "    y = zeros((n, 1))\n",
    "    y[0][0] = b[0][0]/L[0][0]\n",
    "    for j in range(1, n):\n",
    "        S = 0\n",
    "        for i in range(0, j):\n",
    "            S = S+y[i][0]*L[j][i]\n",
    "        y[j][0] = b[j][0]-S\n",
    "\n",
    "    # ------proses substitusi mundur----#\n",
    "    x = zeros((n, 1))\n",
    "    x[n-1][0] = y[n-1][0]/A[n-1][n-1]\n",
    "    for j in range(n-2, -1, -1):\n",
    "        S = 0\n",
    "        for i in range(j+1, n):\n",
    "            S = S+A[j][i]*x[i][0]\n",
    "        x[j][0] = (y[j][0]-S)/A[j][j]\n",
    "    print()\n",
    "    print('Solusinya:\\n')\n",
    "    print(\"X1 = \" + str(x[0]) + \"\\n\")\n",
    "    print(\"X2 = \" + str(x[1]) + \"\\n\")\n",
    "    print(\"X3 = \" + str(x[2]) + \"\\n\")\n"
   ]
  },
  {
   "cell_type": "markdown",
   "metadata": {},
   "source": [
    "# Soal No.1\n",
    "\n",
    "2x + 4y + 3z = 16\n",
    "\n",
    "3x + 5y + 2z = 12\n",
    "\n",
    "4x + 6y + 3z = 12"
   ]
  },
  {
   "cell_type": "code",
   "execution_count": null,
   "metadata": {},
   "outputs": [],
   "source": [
    "A = array([[2., 4., 3.],\n",
    "           [3., 5., 2.],\n",
    "           [4., 6, 3.]])\n",
    "print('Matriks A')\n",
    "print(A)\n",
    "\n",
    "b = array([[16.],\n",
    "           [12.],\n",
    "           [12.]])\n",
    "\n",
    "print('')\n",
    "print('Matriks B')\n",
    "print(b)\n",
    "jalanLU(A, b)\n"
   ]
  },
  {
   "cell_type": "markdown",
   "metadata": {},
   "source": [
    "# Soal No.2\n",
    "\n",
    "x + y - z = 4\n",
    "\n",
    "x - 2y + 3z = -6\n",
    "\n",
    "2x + 3y + z = 7"
   ]
  },
  {
   "cell_type": "code",
   "execution_count": null,
   "metadata": {},
   "outputs": [],
   "source": [
    "A = array([[1., 1., -1.],\n",
    "           [1., -2., 3.],\n",
    "           [2., 3., 1.]])\n",
    "print('Matriks A')\n",
    "print (A)\n",
    "\n",
    "b = array([[4.],\n",
    "           [-6.],\n",
    "           [7.]])\n",
    "\n",
    "print('')\n",
    "print('Matriks B')\n",
    "print(b)\n",
    "jalanLU(A,b)"
   ]
  }
 ],
 "metadata": {
  "kernelspec": {
   "display_name": "Python 3.9.12 ('base')",
   "language": "python",
   "name": "python3"
  },
  "language_info": {
   "codemirror_mode": {
    "name": "ipython",
    "version": 3
   },
   "file_extension": ".py",
   "mimetype": "text/x-python",
   "name": "python",
   "nbconvert_exporter": "python",
   "pygments_lexer": "ipython3",
   "version": "3.9.12"
  },
  "orig_nbformat": 4,
  "vscode": {
   "interpreter": {
    "hash": "ad2bdc8ecc057115af97d19610ffacc2b4e99fae6737bb82f5d7fb13d2f2c186"
   }
  }
 },
 "nbformat": 4,
 "nbformat_minor": 2
}
