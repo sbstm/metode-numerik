{
 "cells": [
  {
   "cell_type": "code",
   "execution_count": 14,
   "metadata": {},
   "outputs": [
    {
     "name": "stdout",
     "output_type": "stream",
     "text": [
      "7.853\n"
     ]
    }
   ],
   "source": [
    "import matplotlib as mat\n",
    "import numpy as np\n",
    "\n",
    "x = 7.85300000000000000000000000000000004\n",
    "a = 1\n",
    "b = 10\n",
    "k = (a + b)/2\n",
    "while k!=x:\n",
    "        k = (a + b)/2\n",
    "        if k>=x:\n",
    "            b= (k+b)/2\n",
    "        elif k<=x:\n",
    "            a= (k+a)/2\n",
    "        else:\n",
    "            break\n",
    "    \n",
    "print(k)\n",
    "\n"
   ]
  }
 ],
 "metadata": {
  "kernelspec": {
   "display_name": "Python 3.10.6 64-bit",
   "language": "python",
   "name": "python3"
  },
  "language_info": {
   "codemirror_mode": {
    "name": "ipython",
    "version": 3
   },
   "file_extension": ".py",
   "mimetype": "text/x-python",
   "name": "python",
   "nbconvert_exporter": "python",
   "pygments_lexer": "ipython3",
   "version": "3.10.6"
  },
  "orig_nbformat": 4,
  "vscode": {
   "interpreter": {
    "hash": "3196968d684371006099b3d55edeef8ed90365227a30deaef86e5d4aa8519be0"
   }
  }
 },
 "nbformat": 4,
 "nbformat_minor": 2
}
