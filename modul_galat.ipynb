{
 "cells": [
  {
   "cell_type": "code",
   "execution_count": 8,
   "metadata": {},
   "outputs": [],
   "source": [
    "import numpy as np\n",
    "\n",
    "\n",
    "def color_graph(edges, extra_iterations=5):\n",
    "    \"\"\"Welsh Powell (Greedy) Algorith to color graphs + recoloring at the end.\n",
    "    \n",
    "    Parameters\n",
    "    ----------\n",
    "    edges : list of tuples of shape (n_edges, )\n",
    "        List of of edges.\n",
    "    extra_iterations : int\n",
    "        How many iterations of recoloring will the algorithm do.\n",
    "    Returns\n",
    "    -------\n",
    "    solution : list of shape (n_points, )\n",
    "        List of colors (numbers) for every point in the graph.\n",
    "    \"\"\"\n",
    "\n",
    "    edges = np.asarray(edges)\n",
    "    vertex_count = np.amax(edges) + 1\n",
    "\n",
    "    # Create the graph matrix\n",
    "    graph = np.zeros(shape=(vertex_count, vertex_count), dtype=np.int8)\n",
    "    rows, cols = zip(*edges)\n",
    "    graph[rows, cols] = 1\n",
    "    graph[cols, rows] = 1\n",
    "    del rows, cols, edges\n",
    "\n",
    "    # Gets the degree of every vertex and sorts them in a descending order\n",
    "    colsum = np.argsort(-graph.sum(axis=0), kind=\"stable\")\n",
    "\n",
    "    colors = np.full(len(graph), -1, dtype=np.int8)\n",
    "    for index in colsum:\n",
    "        for color in range(vertex_count):\n",
    "            for i, node in enumerate(graph[index]):\n",
    "                if node == 1 and colors[i] == color and i != index:\n",
    "                    break\n",
    "            else:\n",
    "                colors[index] = color\n",
    "                break\n",
    "\n",
    "    # Recolor TODO: Use Kemp Chains\n",
    "    for p in range(extra_iterations):\n",
    "        max_colores = colors.max()\n",
    "        for index in colsum:\n",
    "            adjacent_colors = {\n",
    "                colors[i] for i, node in enumerate(graph[index]) if node == 1\n",
    "            }\n",
    "            for color in range(max_colores):\n",
    "                if (\n",
    "                    color != colors[index]\n",
    "                    and color not in adjacent_colors\n",
    "                    and color != max_colores\n",
    "                ):\n",
    "                    colors[index] = color\n",
    "                    break\n",
    "\n",
    "    return colors"
   ]
  }
 ],
 "metadata": {
  "kernelspec": {
   "display_name": "Python 3.10.6 64-bit",
   "language": "python",
   "name": "python3"
  },
  "language_info": {
   "codemirror_mode": {
    "name": "ipython",
    "version": 3
   },
   "file_extension": ".py",
   "mimetype": "text/x-python",
   "name": "python",
   "nbconvert_exporter": "python",
   "pygments_lexer": "ipython3",
   "version": "3.10.6"
  },
  "orig_nbformat": 4,
  "vscode": {
   "interpreter": {
    "hash": "3196968d684371006099b3d55edeef8ed90365227a30deaef86e5d4aa8519be0"
   }
  }
 },
 "nbformat": 4,
 "nbformat_minor": 2
}
