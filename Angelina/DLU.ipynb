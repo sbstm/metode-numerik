{
 "cells": [
  {
   "cell_type": "code",
   "execution_count": 18,
   "metadata": {},
   "outputs": [],
   "source": [
    "import numpy\n",
    "from numpy import *"
   ]
  },
  {
   "cell_type": "code",
   "execution_count": 19,
   "metadata": {},
   "outputs": [],
   "source": [
    "def cekdeterminan(matrix,n):\n",
    "    res=  (np.linalg.det(matrix))\n",
    "    return (int(round(res)))"
   ]
  },
  {
   "cell_type": "code",
   "execution_count": 20,
   "metadata": {},
   "outputs": [],
   "source": [
    "def jalanLU(A, b, n):\n",
    "\n",
    "    # ========== matriks L dari sini ===================#\n",
    "    L = zeros((n, n))\n",
    "    for i in range(0, n):\n",
    "        L[i][i] = 1\n",
    "\n",
    "    # ~~~~~~proses triangularisasi~~~~~~#\n",
    "    for k in range(0, n-1):  # -----proses pivot dari sini-------#\n",
    "        if A[k][k] == 0:\n",
    "            for s in range(0, n):\n",
    "                v = A[k][s]\n",
    "                u = A[k+1][s]\n",
    "                A[k][s] = u\n",
    "                A[k+1][s] = v\n",
    "    # -----proses pivot sampai sini-----#\n",
    "        for j in range(k+1, n):\n",
    "            m = A[j][k]/A[k][k]\n",
    "            L[j][k] = m  # nilai m disimpan di matriks L\n",
    "            for i in range(0, n):\n",
    "                A[j][i] = A[j][i]-m*A[k][i]\n",
    "    print()\n",
    "    print('Matriks L')\n",
    "    print(L)\n",
    "    # ========== matriks L sampai sini =================#\n",
    "\n",
    "    # ========== matriks U dari sini ===================#\n",
    "    print()\n",
    "    print('Matriks U')\n",
    "    print(A)\n",
    "    # ========== matriks U sampai sini =================#\n",
    "\n",
    "    # ------proses substitusi maju------#\n",
    "    y = zeros((n, 1))\n",
    "    y[0][0] = b[0][0]/L[0][0]\n",
    "    for j in range(1, n):\n",
    "        S = 0\n",
    "        for i in range(0, j):\n",
    "            S = S+y[i][0]*L[j][i]\n",
    "        y[j][0] = b[j][0]-S\n",
    "\n",
    "    # ------proses substitusi mundur----#\n",
    "    x = zeros((n, 1))\n",
    "    x[n-1][0] = y[n-1][0]/A[n-1][n-1]\n",
    "    for j in range(n-2, -1, -1):\n",
    "        S = 0\n",
    "        for i in range(j+1, n):\n",
    "            S = S+A[j][i]*x[i][0]\n",
    "        x[j][0] = (y[j][0]-S)/A[j][j]\n",
    "    print()\n",
    "    print('Solusinya:\\n')\n",
    "    for i in range(n):\n",
    "        print(\"X\"+str(i)+\" = \" + str(x[i]) + \"\\n\")\n"
   ]
  },
  {
   "cell_type": "markdown",
   "metadata": {},
   "source": [
    "# Soal Dinamis\n",
    "\n",
    "masukan nilai ordo\n",
    "\n",
    "masukan nilai matrik a dahulu sesuai ordo n yang dimasukan\n",
    "masukan nilai b\n",
    "\n",
    "hasilnya "
   ]
  },
  {
   "cell_type": "code",
   "execution_count": 21,
   "metadata": {},
   "outputs": [
    {
     "ename": "ValueError",
     "evalue": "invalid literal for int() with base 10: ''",
     "output_type": "error",
     "traceback": [
      "\u001b[1;31m---------------------------------------------------------------------------\u001b[0m",
      "\u001b[1;31mValueError\u001b[0m                                Traceback (most recent call last)",
      "\u001b[1;32mc:\\Users\\Administrator\\Documents\\Kuliah Semester 3\\Metnum\\Folder Baru\\metode-numerik\\Satria Bima Sakti\\DLU.ipynb Cell 5\u001b[0m in \u001b[0;36m<cell line: 1>\u001b[1;34m()\u001b[0m\n\u001b[1;32m----> <a href='vscode-notebook-cell:/c%3A/Users/Administrator/Documents/Kuliah%20Semester%203/Metnum/Folder%20Baru/metode-numerik/Satria%20Bima%20Sakti/DLU.ipynb#X10sZmlsZQ%3D%3D?line=0'>1</a>\u001b[0m n \u001b[39m=\u001b[39m \u001b[39mint\u001b[39;49m(\u001b[39minput\u001b[39;49m( \u001b[39m'\u001b[39;49m\u001b[39mmasukan ordo =\u001b[39;49m\u001b[39m'\u001b[39;49m))\n\u001b[0;32m      <a href='vscode-notebook-cell:/c%3A/Users/Administrator/Documents/Kuliah%20Semester%203/Metnum/Folder%20Baru/metode-numerik/Satria%20Bima%20Sakti/DLU.ipynb#X10sZmlsZQ%3D%3D?line=1'>2</a>\u001b[0m A \u001b[39m=\u001b[39m zeros((n,n))\n\u001b[0;32m      <a href='vscode-notebook-cell:/c%3A/Users/Administrator/Documents/Kuliah%20Semester%203/Metnum/Folder%20Baru/metode-numerik/Satria%20Bima%20Sakti/DLU.ipynb#X10sZmlsZQ%3D%3D?line=2'>3</a>\u001b[0m b \u001b[39m=\u001b[39m zeros((n,\u001b[39m1\u001b[39m))\n",
      "\u001b[1;31mValueError\u001b[0m: invalid literal for int() with base 10: ''"
     ]
    }
   ],
   "source": [
    "n = int(input( 'masukan ordo ='))\n",
    "A = zeros((n,n))\n",
    "b = zeros((n,1))\n",
    "for i in range(n):\n",
    "    for j in range(n):\n",
    "        A[i][j] = float(input( 'x['+str(i)+']['+str(j)+']='))\n",
    "print('Matriks A')\n",
    "print (A)\n",
    "for i in range(n):\n",
    "    b[i][0]= float(input( 'y['+str(i)+']='))\n",
    "print('')\n",
    "print('Matriks B')\n",
    "print(b)\n",
    "\n",
    "if cekdeterminan(A,n)==0:\n",
    "    print(\"determinan sama dengan 0 program tidak dijalankan\")\n",
    "else:\n",
    "    if n>1:\n",
    "        jalanLU(A,b,n)"
   ]
  }
 ],
 "metadata": {
  "kernelspec": {
   "display_name": "Python 3.9.12 ('base')",
   "language": "python",
   "name": "python3"
  },
  "language_info": {
   "codemirror_mode": {
    "name": "ipython",
    "version": 3
   },
   "file_extension": ".py",
   "mimetype": "text/x-python",
   "name": "python",
   "nbconvert_exporter": "python",
   "pygments_lexer": "ipython3",
   "version": "3.9.12"
  },
  "orig_nbformat": 4,
  "vscode": {
   "interpreter": {
    "hash": "ad2bdc8ecc057115af97d19610ffacc2b4e99fae6737bb82f5d7fb13d2f2c186"
   }
  }
 },
 "nbformat": 4,
 "nbformat_minor": 2
}
