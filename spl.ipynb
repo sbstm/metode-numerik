{
 "cells": [
  {
   "cell_type": "code",
   "execution_count": 4,
   "metadata": {},
   "outputs": [
    {
     "name": "stdout",
     "output_type": "stream",
     "text": [
      "[[ 4. -2.  1.  3. -2.]\n",
      " [-1.  2.  3. -4.  5.]\n",
      " [ 1. -2.  4. -2.  1.]\n",
      " [ 5. -4.  4.  2. -1.]\n",
      " [-2.  3.  1. -2.  4.]]\n",
      "[[-0.55555556  0.33333333  0.66666667  0.66666667 -0.11111111]]\n"
     ]
    }
   ],
   "source": [
    "from numpy import array, zeros\n",
    "# Langkah 1 : inisialisasi matriks\n",
    "A = array([[4., -2., 1., 3., -2.],\n",
    "           [-1., 2., 3., -4., 5.],\n",
    "           [1., -2., 4., -2., 1.],\n",
    "           [5., -4., 4., 2., -1.],\n",
    "           [-2., 3., 1., -2., 4.]])\n",
    "print(A)\n",
    "b = array([[1., 0., 0., 0., 0.],\n",
    "           [0., 1., 0., 0., 0.],\n",
    "           [0., 0., 1., 0., 0.],\n",
    "           [0., 0., 0., 1., 0.],\n",
    "           [0., 0., 0., 0., 1.]])\n",
    "# Langkah 2 : memecah matriks b menjadi b1,b2 dan b3\n",
    "n = len(A)\n",
    "bl = zeros((n, 1))\n",
    "# Langkah 3 : melakukan pengulangan\n",
    "for w in range(n):\n",
    "    for q in range(n):\n",
    "        bl[q][0] = b[q][w]\n",
    "A = array([[4., -2., 1., 3., -2.],\n",
    "           [-1., 2., 3., -4., 5.],\n",
    "           [1., -2., 4., -2., 1.],\n",
    "           [5., -4., 4., 2., -1.],\n",
    "           [-2., 3., 1., -2., 4.]])\n",
    "# Langkah 4 : memulai matriks L\n",
    "L = zeros((n, n))\n",
    "for i in range(0, n):\n",
    "    L[i][i] = 1\n",
    "# proses triangularisasi\n",
    "for k in range(0, n-1):\n",
    "    # memulai pivot\n",
    "    if A[k][k] == 0:\n",
    "        for s in range(0, n):\n",
    "            v = A[k][s]\n",
    "            u = A[k+1][s]\n",
    "            A[k][s] = u\n",
    "            A[k+1][s] = v\n",
    "# proses pivot selesai\n",
    "    for j in range(k+1, n):\n",
    "        m = A[j][k]/A[k][k]\n",
    "        L[j][k] = m  # nilai m disimpan di matrik L\n",
    "        for i in range(0, n):\n",
    "            A[j][i] = A[j][i]-m*A[k][i]\n",
    "# matriks L selesai\n",
    "# Langkah 5 : memulai matriks U\n",
    "U = zeros((n, n))\n",
    "for i in range(0, n):\n",
    "    for j in range(0, n):\n",
    "        U[i][j] = A[i][j]\n",
    "# matriks U selesai\n",
    "# Langkah 6 : proses subtitusi maju (LY=B)\n",
    "y = zeros((n, 1))\n",
    "y[0][0] = bl[0][0]/L[0][0]\n",
    "for j in range(1, n):\n",
    "    S = 0\n",
    "    for i in range(0, j):\n",
    "        S = S+y[i][0]*L[j][i]\n",
    "    y[j][0] = bl[j][0]-S\n",
    "# Langkah 7 : proses subtitusi mundur (UX=Y)\n",
    "x = zeros((1, n))\n",
    "x[0][n-1] = y[n-1][0]/U[n-1][n-1]\n",
    "for j in range(n-2, -1, -1):\n",
    "    S = 0\n",
    "    for i in range(j+1, n):\n",
    "        S = S+U[j][i]*x[0][i]\n",
    "    x[0][j] = (y[j][0]-S)/U[j][j]\n",
    "# langkah 8 : mencetak nilai x\n",
    "print(x)\n"
   ]
  }
 ],
 "metadata": {
  "kernelspec": {
   "display_name": "Python 3.9.12 ('base')",
   "language": "python",
   "name": "python3"
  },
  "language_info": {
   "codemirror_mode": {
    "name": "ipython",
    "version": 3
   },
   "file_extension": ".py",
   "mimetype": "text/x-python",
   "name": "python",
   "nbconvert_exporter": "python",
   "pygments_lexer": "ipython3",
   "version": "3.9.12"
  },
  "orig_nbformat": 4,
  "vscode": {
   "interpreter": {
    "hash": "ad2bdc8ecc057115af97d19610ffacc2b4e99fae6737bb82f5d7fb13d2f2c186"
   }
  }
 },
 "nbformat": 4,
 "nbformat_minor": 2
}
