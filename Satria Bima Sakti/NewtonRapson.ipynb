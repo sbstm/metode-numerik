{
 "cells": [
  {
   "cell_type": "code",
   "execution_count": 1,
   "metadata": {},
   "outputs": [],
   "source": [
    "import pandas as pd\n",
    "import matplotlib.pyplot as plt"
   ]
  },
  {
   "cell_type": "code",
   "execution_count": 11,
   "metadata": {},
   "outputs": [
    {
     "name": "stdout",
     "output_type": "stream",
     "text": [
      "0      12.0\n",
      "1      32.0\n",
      "2      43.0\n",
      "3      60.0\n",
      "4      75.5\n",
      "5      91.0\n",
      "6     106.5\n",
      "7     122.0\n",
      "8     137.5\n",
      "9     153.0\n",
      "10    168.5\n",
      "11    184.0\n",
      "12    199.5\n",
      "13    215.0\n",
      "14    230.5\n",
      "15    246.0\n",
      "16    261.5\n",
      "17    277.0\n",
      "18    292.5\n",
      "19    308.0\n",
      "Name: x, dtype: float64\n"
     ]
    }
   ],
   "source": [
    "df = pd.read_json('data_newton.json')\n",
    "\n",
    "x =df.x\n",
    "\n",
    "print(x)\n"
   ]
  }
 ],
 "metadata": {
  "kernelspec": {
   "display_name": "Python 3.9.12 ('base')",
   "language": "python",
   "name": "python3"
  },
  "language_info": {
   "codemirror_mode": {
    "name": "ipython",
    "version": 3
   },
   "file_extension": ".py",
   "mimetype": "text/x-python",
   "name": "python",
   "nbconvert_exporter": "python",
   "pygments_lexer": "ipython3",
   "version": "3.9.12"
  },
  "orig_nbformat": 4,
  "vscode": {
   "interpreter": {
    "hash": "ad2bdc8ecc057115af97d19610ffacc2b4e99fae6737bb82f5d7fb13d2f2c186"
   }
  }
 },
 "nbformat": 4,
 "nbformat_minor": 2
}
